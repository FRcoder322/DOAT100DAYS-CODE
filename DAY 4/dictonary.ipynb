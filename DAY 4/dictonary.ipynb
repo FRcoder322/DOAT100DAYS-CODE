{
 "cells": [
  {
   "cell_type": "code",
   "execution_count": 2,
   "metadata": {},
   "outputs": [
    {
     "name": "stdout",
     "output_type": "stream",
     "text": [
      "['001', '002', '003']\n",
      "['Sandy', 'Bob', 'Cooper']\n",
      "[23, 34, 24]\n"
     ]
    }
   ],
   "source": [
    "# Tabled Data in Dictionaries<img src=\"https://www.plus2net.com/sql_tutorial/images/table.jpg\">\n",
    "employees_record ={\n",
    "    'Empno':['001','002','003'],\n",
    "    'Name':['Sandy','Bob','Cooper'],\n",
    "    'Age':[23,34,24],\n",
    "    'Depart':['IT','Finance','Admin'],\n",
    "    'Salary':[10000,2600,5670]\n",
    "}\n",
    "\n",
    "print(employees_record['Empno'])\n",
    "print(employees_record['Name'])\n",
    "print(employees_record['Age'])"
   ]
  },
  {
   "cell_type": "code",
   "execution_count": 8,
   "metadata": {},
   "outputs": [
    {
     "name": "stdout",
     "output_type": "stream",
     "text": [
      "Asabeneh\n",
      "Yetayeh\n",
      "{'first_name': 'Asabeneh', 'last_name': 'Yetayeh', 'age': 250, 'country': 'Finland', 'is_marred': True, 'skills': ['JavaScript', 'React', 'Node', 'MongoDB', 'Python'], 'address': {'street': 'Space street', 'zipcode': '02210'}, 'job_title': 'Instructor', 'city': 'Canberra'}\n"
     ]
    }
   ],
   "source": [
    "person = {\n",
    "    'first_name':'Asabeneh',\n",
    "    'last_name':'Yetayeh',\n",
    "   'age':250,\n",
    "   'country':'Finland',\n",
    "   'is_marred':True,\n",
    "   'skills':['JavaScript', 'React', 'Node', 'MongoDB', 'Python'],\n",
    "    'address':{\n",
    "   'street':'Space street',\n",
    "    'zipcode':'02210'\n",
    "  }\n",
    "}\n",
    "\n",
    "print(person['first_name']) \n",
    "print(person['last_name'])\n",
    "\n",
    "\n",
    "\n",
    "person['job_title']='Instructor'\n",
    "person['city']= 'Canberra'\n",
    "print(person)"
   ]
  },
  {
   "cell_type": "code",
   "execution_count": 9,
   "metadata": {},
   "outputs": [
    {
     "name": "stdout",
     "output_type": "stream",
     "text": [
      "{'first_name': 'Eyob', 'last_name': 'Yetayeh', 'age': 252, 'country': 'Finland', 'is_marred': True, 'skills': ['JavaScript', 'React', 'Node', 'MongoDB', 'Python'], 'address': {'street': 'Space street', 'zipcode': '02210'}}\n"
     ]
    }
   ],
   "source": [
    "# Modifying values in a Dictionary\n",
    "person = {\n",
    " 'first_name':'Asabeneh',\n",
    " 'last_name':'Yetayeh',\n",
    " 'age':250,\n",
    " 'country':'Finland',\n",
    " 'is_marred':True,\n",
    " 'skills':['JavaScript', 'React', 'Node', 'MongoDB', 'Python'],\n",
    " 'address':{\n",
    " 'street':'Space street',\n",
    " 'zipcode':'02210'\n",
    " }\n",
    " }\n",
    "person['first_name'] = 'Eyob'\n",
    "person['age'] = 252\n",
    "print(person)\n"
   ]
  }
 ],
 "metadata": {
  "kernelspec": {
   "display_name": "Python 3",
   "language": "python",
   "name": "python3"
  },
  "language_info": {
   "codemirror_mode": {
    "name": "ipython",
    "version": 3
   },
   "file_extension": ".py",
   "mimetype": "text/x-python",
   "name": "python",
   "nbconvert_exporter": "python",
   "pygments_lexer": "ipython3",
   "version": "3.11.9"
  }
 },
 "nbformat": 4,
 "nbformat_minor": 2
}
